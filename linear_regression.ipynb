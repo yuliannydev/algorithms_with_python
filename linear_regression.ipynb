{
 "cells": [
  {
   "cell_type": "markdown",
   "metadata": {},
   "source": [
    "### Algorithms"
   ]
  },
  {
   "cell_type": "markdown",
   "metadata": {},
   "source": [
    "#### Linear Regression Algorithm"
   ]
  },
  {
   "cell_type": "markdown",
   "metadata": {},
   "source": [
    "Importar numpy y usarlo con un alias.\n",
    "Para usar la funcionalidad de sumas y promedios "
   ]
  },
  {
   "cell_type": "code",
   "execution_count": null,
   "metadata": {},
   "outputs": [],
   "source": [
    "import numpy as np"
   ]
  },
  {
   "cell_type": "markdown",
   "metadata": {},
   "source": [
    "Importar matplolib para graficar al linea de regresion"
   ]
  },
  {
   "cell_type": "code",
   "execution_count": null,
   "metadata": {},
   "outputs": [],
   "source": [
    "import matplotlib.pyplot as plt"
   ]
  },
  {
   "cell_type": "markdown",
   "metadata": {},
   "source": [
    "Crear funcion regresion lineal"
   ]
  },
  {
   "cell_type": "code",
   "execution_count": null,
   "metadata": {},
   "outputs": [],
   "source": [
    "def b0_b1(x, y):\n",
    "    n = np.size(x)\n",
    "\n",
    "    #Promedios de X y Y\n",
    "    media_de_x, media_de_y = np.mean(x), np.mean(y)\n",
    "\n",
    "    #Sumatoria de XY y Sumatoria de XX\n",
    "    sumatoria_xy = np.sum((x - media_de_x) * (y - media_de_y))\n",
    "    sumatoria_xx = np.sum((x - media_de_x)**2)\n",
    "\n",
    "    #Coeficientes de regresion\n",
    "    b_1 = sumatoria_xy / sumatoria_xx\n",
    "    b_0 = media_de_y - b_1 * media_de_x\n",
    "\n",
    "    return(b_0, b_1)"
   ]
  },
  {
   "cell_type": "markdown",
   "metadata": {},
   "source": [
    "Función para graficar"
   ]
  },
  {
   "cell_type": "code",
   "execution_count": null,
   "metadata": {},
   "outputs": [],
   "source": [
    "def plot_regression(x, y, b):\n",
    "    #Grafica\n",
    "    plt.scatter(x, y, color = 'g', marker = 'o', s = 30)\n",
    "\n",
    "    #Predicciones\n",
    "    y_prediction = b[0] + b[1] * x\n",
    "    plt.plot(x, y_prediction, color = 'b')\n",
    "\n",
    "    #Etiquetas para la grafica\n",
    "    plt.xlabel('x-Independiente')\n",
    "    plt.ylabel('y-Dependiente')\n",
    "\n",
    "    #Dibujar la grafica\n",
    "    plt.show()"
   ]
  },
  {
   "cell_type": "markdown",
   "metadata": {},
   "source": [
    "Función principal"
   ]
  },
  {
   "cell_type": "code",
   "execution_count": null,
   "metadata": {},
   "outputs": [],
   "source": [
    "def run():\n",
    "    #DATASET\n",
    "    x = np.array([1,2,3,4,5])\n",
    "    y = np.array([2,3,5,6,5])\n",
    "\n",
    "    #Obtencion de b0 y b1\n",
    "    b = b0_b1(x, y)\n",
    "    print('Los valores de b0 = {}, b1 = {}'.format(b[0], b[1]))\n",
    "\n",
    "    #Graficamos la linea de regresion\n",
    "    plot_regression(x, y, b)\n",
    "\n",
    "\n",
    "if __name__ == '__main__':\n",
    "    run()"
   ]
  }
 ],
 "metadata": {
  "kernelspec": {
   "display_name": "Python 3.9.12 ('base')",
   "language": "python",
   "name": "python3"
  },
  "language_info": {
   "codemirror_mode": {
    "name": "ipython",
    "version": 3
   },
   "file_extension": ".py",
   "mimetype": "text/x-python",
   "name": "python",
   "nbconvert_exporter": "python",
   "pygments_lexer": "ipython3",
   "version": "3.9.12"
  },
  "orig_nbformat": 4,
  "vscode": {
   "interpreter": {
    "hash": "0a0f1646a25ea70b60caf5f27302f5557ef9b34dd5e9478d990a82298da9a2ef"
   }
  }
 },
 "nbformat": 4,
 "nbformat_minor": 2
}
